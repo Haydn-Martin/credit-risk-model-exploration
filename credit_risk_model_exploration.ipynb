{
 "cells": [
  {
   "cell_type": "markdown",
   "id": "362a62a1-dddd-435e-9e1c-09b04f13911a",
   "metadata": {},
   "source": [
    "# Credit Risk Model Exploration"
   ]
  },
  {
   "cell_type": "markdown",
   "id": "ab69cb16-3efc-4e99-8c8a-7a8312829324",
   "metadata": {},
   "source": [
    "In this notebook I will conuducting core data science work: going from raw data to final model.\n",
    "\n",
    "This will involve the following:\n",
    "\n",
    "1. Raw data exploration\n",
    "2. Feature engineering\n",
    "3. Model selection\n",
    "4. Model optimisation"
   ]
  },
  {
   "cell_type": "markdown",
   "id": "80e83700-e743-47c4-9026-411b3e194189",
   "metadata": {},
   "source": [
    "## Raw Data Exploration"
   ]
  },
  {
   "cell_type": "markdown",
   "id": "8cddce78-cb63-4bdc-b1d7-da0e8c307eac",
   "metadata": {},
   "source": [
    "Before we do anything, we need some data. As this we are doing supervised modelling here, this data will need to include labelled examples: an outcome column and features that can (hopefully) predict that outcome column.\n",
    "\n",
    "My usual go-to for public datasets for playing aroudn with machine learning is kaggle and UCI, with UCI being a bit more real-world/large and kaggle being more diverse.\n",
    "\n",
    "Let's go with a credit risk dataset arbitrarily selected from kaggle: https://www.kaggle.com/datasets/laotse/credit-risk-dataset"
   ]
  },
  {
   "cell_type": "markdown",
   "id": "8684e19e-1615-45cb-a06e-b3cbdf8e5923",
   "metadata": {},
   "source": [
    "### Clean Data Checks"
   ]
  },
  {
   "cell_type": "markdown",
   "id": "bcc6d2f3-e132-4ff2-9e10-03f1b82a4269",
   "metadata": {},
   "source": [
    "Before assessing the attributes of the data, it's good to make sure that the data is clean. Otherwise we're going to have modelling problems later."
   ]
  },
  {
   "cell_type": "markdown",
   "id": "4cc31a81-0700-45d2-9168-41d0ce1d5d14",
   "metadata": {},
   "source": [
    "#### Clean Data Real World Sidenote"
   ]
  },
  {
   "cell_type": "markdown",
   "id": "dfb3433f-8021-4dde-9e57-04001a2ec499",
   "metadata": {},
   "source": [
    "In the real world, one of the biggest challenges is collecting clean data to use. This has been skipped here for reasons of brevity and personal sanity.\n",
    "\n",
    "Also, in my view clean data isn't the responsibility of the modeller (size of org dependent). Identifying defects, yes. Collaborating with others to fix these defects, sure. But ultimately the responsibility is shared between those collating/maintaining the data.\n",
    "\n",
    "Note too that in the real world, the first step in a project might be setting up the pipelines. That's truly end-to-end. In this type of project, the modelling component - which we are focusing on here - plays a minor part in the process as a whole."
   ]
  },
  {
   "cell_type": "code",
   "execution_count": 1,
   "id": "a051fbdd-c7b8-434d-8e79-def36575b2e7",
   "metadata": {},
   "outputs": [],
   "source": [
    "# Load the data and save"
   ]
  },
  {
   "cell_type": "code",
   "execution_count": 2,
   "id": "d9aea358-06d4-4abc-b776-8f4032181898",
   "metadata": {},
   "outputs": [],
   "source": [
    "# Checking nulls"
   ]
  },
  {
   "cell_type": "code",
   "execution_count": 3,
   "id": "f3dc8714-1dc8-44f2-b9bf-a7c69309ee9a",
   "metadata": {},
   "outputs": [],
   "source": [
    "# Looking at types"
   ]
  }
 ],
 "metadata": {
  "kernelspec": {
   "display_name": "Python 3 (ipykernel)",
   "language": "python",
   "name": "python3"
  },
  "language_info": {
   "codemirror_mode": {
    "name": "ipython",
    "version": 3
   },
   "file_extension": ".py",
   "mimetype": "text/x-python",
   "name": "python",
   "nbconvert_exporter": "python",
   "pygments_lexer": "ipython3",
   "version": "3.11.3"
  }
 },
 "nbformat": 4,
 "nbformat_minor": 5
}
